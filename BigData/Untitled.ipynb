{
 "cells": [
  {
   "cell_type": "code",
   "execution_count": 2,
   "metadata": {},
   "outputs": [
    {
     "data": {
      "text/plain": [
       "['360 Video',\n",
       " 'Accounting',\n",
       " 'Action',\n",
       " 'Adventure',\n",
       " 'Animation & Modeling',\n",
       " 'Audio Production',\n",
       " 'Casual',\n",
       " 'Design & Illustration',\n",
       " 'Documentary',\n",
       " 'Early Access',\n",
       " 'Education',\n",
       " 'Free to Play',\n",
       " 'Game Development',\n",
       " 'Gore',\n",
       " 'HTC',\n",
       " 'Indie',\n",
       " 'Massively Multiplayer',\n",
       " 'Movie',\n",
       " 'Nudity',\n",
       " 'Photo Editing',\n",
       " 'RPG',\n",
       " 'Racing',\n",
       " 'Sexual Content',\n",
       " 'Short',\n",
       " 'Simulation',\n",
       " 'Software Training',\n",
       " 'Sports',\n",
       " 'Strategy',\n",
       " 'Tutorial',\n",
       " 'Utilities',\n",
       " 'Valve',\n",
       " 'Video Production',\n",
       " 'Violent',\n",
       " 'Web Publishing',\n",
       " 'nan']"
      ]
     },
     "execution_count": 2,
     "metadata": {},
     "output_type": "execute_result"
    }
   ],
   "source": [
    "import pandas as pd # 데이터프레임 사용을 위해\n",
    "from math import log # IDF 계산을 위해\n",
    "import numpy as np\n",
    "steamdb = pd.read_csv(\"./steam_games.csv\")\n",
    "docs = steamdb[\"genre\"]\n",
    "docs\n",
    "tags = list(set(\n",
    "w for doc in docs for w in str(doc).split(\",\")\n",
    "))\n",
    "tags.sort()\n",
    "tags"
   ]
  },
  {
   "cell_type": "code",
   "execution_count": null,
   "metadata": {},
   "outputs": [],
   "source": []
  }
 ],
 "metadata": {
  "kernelspec": {
   "display_name": "Python 3",
   "language": "python",
   "name": "python3"
  },
  "language_info": {
   "codemirror_mode": {
    "name": "ipython",
    "version": 3
   },
   "file_extension": ".py",
   "mimetype": "text/x-python",
   "name": "python",
   "nbconvert_exporter": "python",
   "pygments_lexer": "ipython3",
   "version": "3.8.3"
  }
 },
 "nbformat": 4,
 "nbformat_minor": 4
}
